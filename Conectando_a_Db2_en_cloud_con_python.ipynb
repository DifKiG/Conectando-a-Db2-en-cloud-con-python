{
  "cells": [
    {
      "cell_type": "markdown",
      "metadata": {
        "id": "view-in-github",
        "colab_type": "text"
      },
      "source": [
        "<a href=\"https://colab.research.google.com/github/DifKiG/Conectando-a-Db2-en-cloud-con-python/blob/main/Conectando_a_Db2_en_cloud_con_python.ipynb\" target=\"_parent\"><img src=\"https://colab.research.google.com/assets/colab-badge.svg\" alt=\"Open In Colab\"/></a>"
      ]
    },
    {
      "cell_type": "markdown",
      "metadata": {
        "id": "JzRkwsr3vIUU"
      },
      "source": [
        "# **Objectives**\n",
        "\n",
        "After completing this lab you will be able to:\n",
        "\n",
        "    Import the ibm_db Python library\n",
        "    Enter the database connection credentials\n",
        "    Create the database connection\n",
        "    Close the database connection\n",
        "\n"
      ]
    },
    {
      "cell_type": "code",
      "execution_count": null,
      "metadata": {
        "colab": {
          "base_uri": "https://localhost:8080/"
        },
        "id": "aauQgQaEsi3T",
        "outputId": "123872b1-a253-4d45-eccf-5d313384e260"
      },
      "outputs": [
        {
          "output_type": "stream",
          "name": "stdout",
          "text": [
            "Collecting ibm_db==3.1.0\n",
            "  Downloading ibm_db-3.1.0.tar.gz (797 kB)\n",
            "\u001b[?25l     \u001b[90m━━━━━━━━━━━━━━━━━━━━━━━━━━━━━━━━━━━━━━━━\u001b[0m \u001b[32m0.0/797.3 kB\u001b[0m \u001b[31m?\u001b[0m eta \u001b[36m-:--:--\u001b[0m\r\u001b[2K     \u001b[91m━━━━━━━━━━━━━━━━━━━━━━━━━━━━\u001b[0m\u001b[91m╸\u001b[0m\u001b[90m━━━━━━━━━\u001b[0m \u001b[32m604.2/797.3 kB\u001b[0m \u001b[31m18.0 MB/s\u001b[0m eta \u001b[36m0:00:01\u001b[0m\r\u001b[2K     \u001b[90m━━━━━━━━━━━━━━━━━━━━━━━━━━━━━━━━━━━━━━\u001b[0m \u001b[32m797.3/797.3 kB\u001b[0m \u001b[31m16.5 MB/s\u001b[0m eta \u001b[36m0:00:00\u001b[0m\n",
            "\u001b[?25h  Installing build dependencies ... \u001b[?25l\u001b[?25hdone\n",
            "  Getting requirements to build wheel ... \u001b[?25l\u001b[?25hdone\n",
            "  Preparing metadata (pyproject.toml) ... \u001b[?25l\u001b[?25hdone\n",
            "Collecting ibm_db_sa==0.3.3\n",
            "  Downloading ibm_db_sa-0.3.3.tar.gz (24 kB)\n",
            "  Preparing metadata (setup.py) ... \u001b[?25l\u001b[?25hdone\n",
            "Collecting sqlalchemy>=0.7.3 (from ibm_db_sa==0.3.3)\n",
            "  Downloading sqlalchemy-2.0.43-cp312-cp312-manylinux_2_17_x86_64.manylinux2014_x86_64.whl.metadata (9.6 kB)\n",
            "Collecting greenlet>=1 (from sqlalchemy>=0.7.3->ibm_db_sa==0.3.3)\n",
            "  Downloading greenlet-3.2.4-cp312-cp312-manylinux_2_24_x86_64.manylinux_2_28_x86_64.whl.metadata (4.1 kB)\n",
            "Collecting typing-extensions>=4.6.0 (from sqlalchemy>=0.7.3->ibm_db_sa==0.3.3)\n",
            "  Downloading typing_extensions-4.14.1-py3-none-any.whl.metadata (3.0 kB)\n",
            "Downloading sqlalchemy-2.0.43-cp312-cp312-manylinux_2_17_x86_64.manylinux2014_x86_64.whl (3.3 MB)\n",
            "\u001b[2K   \u001b[90m━━━━━━━━━━━━━━━━━━━━━━━━━━━━━━━━━━━━━━━━\u001b[0m \u001b[32m3.3/3.3 MB\u001b[0m \u001b[31m109.0 MB/s\u001b[0m eta \u001b[36m0:00:00\u001b[0m\n",
            "\u001b[?25hDownloading greenlet-3.2.4-cp312-cp312-manylinux_2_24_x86_64.manylinux_2_28_x86_64.whl (607 kB)\n",
            "\u001b[2K   \u001b[90m━━━━━━━━━━━━━━━━━━━━━━━━━━━━━━━━━━━━━━━━\u001b[0m \u001b[32m607.6/607.6 kB\u001b[0m \u001b[31m51.6 MB/s\u001b[0m eta \u001b[36m0:00:00\u001b[0m\n",
            "\u001b[?25hDownloading typing_extensions-4.14.1-py3-none-any.whl (43 kB)\n",
            "\u001b[2K   \u001b[90m━━━━━━━━━━━━━━━━━━━━━━━━━━━━━━━━━━━━━━━━\u001b[0m \u001b[32m43.9/43.9 kB\u001b[0m \u001b[31m3.6 MB/s\u001b[0m eta \u001b[36m0:00:00\u001b[0m\n",
            "\u001b[?25hBuilding wheels for collected packages: ibm_db, ibm_db_sa\n",
            "  Building wheel for ibm_db (pyproject.toml) ... \u001b[?25l\u001b[?25hdone\n",
            "  Created wheel for ibm_db: filename=ibm_db-3.1.0-cp312-cp312-linux_x86_64.whl size=41892979 sha256=36de0b189b1c2045e40f4b464c4c74bf3674ef436fce421420c53df83270b823\n",
            "  Stored in directory: /root/.cache/pip/wheels/be/6c/de/5c3b0d7494bd414b1ac57cd32431cdf8143f2f2b2b5cc2846f\n",
            "  Building wheel for ibm_db_sa (setup.py) ... \u001b[?25l\u001b[?25hdone\n",
            "  Created wheel for ibm_db_sa: filename=ibm_db_sa-0.3.3-py3-none-any.whl size=27418 sha256=87b6e77dad38c7ec6112c0cab6e77d6445d83de5ea1ded8106094188db4969c8\n",
            "  Stored in directory: /root/.cache/pip/wheels/5b/77/fe/35fdd3ccda5a97369f6dd9839ea8af63d1573cd5b7d7e056f2\n",
            "Successfully built ibm_db ibm_db_sa\n",
            "Installing collected packages: ibm_db, typing-extensions, greenlet, sqlalchemy, ibm_db_sa\n",
            "  Attempting uninstall: typing-extensions\n",
            "    Found existing installation: typing_extensions 4.14.1\n",
            "    Uninstalling typing_extensions-4.14.1:\n",
            "      Successfully uninstalled typing_extensions-4.14.1\n",
            "  Attempting uninstall: greenlet\n",
            "    Found existing installation: greenlet 3.2.4\n",
            "    Uninstalling greenlet-3.2.4:\n",
            "      Successfully uninstalled greenlet-3.2.4\n",
            "  Attempting uninstall: sqlalchemy\n",
            "    Found existing installation: SQLAlchemy 2.0.43\n",
            "    Uninstalling SQLAlchemy-2.0.43:\n",
            "      Successfully uninstalled SQLAlchemy-2.0.43\n",
            "Successfully installed greenlet-3.2.4 ibm_db-3.1.0 ibm_db_sa-0.3.3 sqlalchemy-2.0.43 typing-extensions-4.14.1\n",
            "Found existing installation: SQLAlchemy 2.0.43\n",
            "Uninstalling SQLAlchemy-2.0.43:\n",
            "  Successfully uninstalled SQLAlchemy-2.0.43\n",
            "Collecting sqlalchemy==1.3.24\n",
            "  Downloading SQLAlchemy-1.3.24.tar.gz (6.4 MB)\n",
            "\u001b[2K     \u001b[90m━━━━━━━━━━━━━━━━━━━━━━━━━━━━━━━━━━━━━━━━\u001b[0m \u001b[32m6.4/6.4 MB\u001b[0m \u001b[31m84.9 MB/s\u001b[0m eta \u001b[36m0:00:00\u001b[0m\n",
            "\u001b[?25h  Preparing metadata (setup.py) ... \u001b[?25l\u001b[?25hdone\n",
            "Building wheels for collected packages: sqlalchemy\n",
            "  Building wheel for sqlalchemy (setup.py) ... \u001b[?25l\u001b[?25hdone\n",
            "  Created wheel for sqlalchemy: filename=SQLAlchemy-1.3.24-cp312-cp312-linux_x86_64.whl size=1256395 sha256=57018f7815458c12cbab42b5887f275bfa70cc7bc1b95511022701976ffdc2b2\n",
            "  Stored in directory: /root/.cache/pip/wheels/ea/86/24/26a773f9bd1cadef3007e8779dbe2a6ac1161fea92758ad924\n",
            "Successfully built sqlalchemy\n",
            "Installing collected packages: sqlalchemy\n",
            "\u001b[31mERROR: pip's dependency resolver does not currently take into account all the packages that are installed. This behaviour is the source of the following dependency conflicts.\n",
            "langchain 0.3.27 requires SQLAlchemy<3,>=1.4, but you have sqlalchemy 1.3.24 which is incompatible.\n",
            "google-adk 1.11.0 requires sqlalchemy<3.0.0,>=2.0, but you have sqlalchemy 1.3.24 which is incompatible.\n",
            "ipython-sql 0.5.0 requires sqlalchemy>=2.0, but you have sqlalchemy 1.3.24 which is incompatible.\u001b[0m\u001b[31m\n",
            "\u001b[0mSuccessfully installed sqlalchemy-1.3.24\n",
            "Requirement already satisfied: ipython-sql in /usr/local/lib/python3.12/dist-packages (0.5.0)\n",
            "Requirement already satisfied: prettytable in /usr/local/lib/python3.12/dist-packages (from ipython-sql) (3.16.0)\n",
            "Requirement already satisfied: ipython in /usr/local/lib/python3.12/dist-packages (from ipython-sql) (7.34.0)\n",
            "Collecting sqlalchemy>=2.0 (from ipython-sql)\n",
            "  Using cached sqlalchemy-2.0.43-cp312-cp312-manylinux_2_17_x86_64.manylinux2014_x86_64.whl.metadata (9.6 kB)\n",
            "Requirement already satisfied: sqlparse in /usr/local/lib/python3.12/dist-packages (from ipython-sql) (0.5.3)\n",
            "Requirement already satisfied: six in /usr/local/lib/python3.12/dist-packages (from ipython-sql) (1.17.0)\n",
            "Requirement already satisfied: ipython-genutils in /usr/local/lib/python3.12/dist-packages (from ipython-sql) (0.2.0)\n",
            "Requirement already satisfied: greenlet>=1 in /usr/local/lib/python3.12/dist-packages (from sqlalchemy>=2.0->ipython-sql) (3.2.4)\n",
            "Requirement already satisfied: typing-extensions>=4.6.0 in /usr/local/lib/python3.12/dist-packages (from sqlalchemy>=2.0->ipython-sql) (4.14.1)\n",
            "Requirement already satisfied: setuptools>=18.5 in /usr/local/lib/python3.12/dist-packages (from ipython->ipython-sql) (75.2.0)\n",
            "Collecting jedi>=0.16 (from ipython->ipython-sql)\n",
            "  Downloading jedi-0.19.2-py2.py3-none-any.whl.metadata (22 kB)\n",
            "Requirement already satisfied: decorator in /usr/local/lib/python3.12/dist-packages (from ipython->ipython-sql) (4.4.2)\n",
            "Requirement already satisfied: pickleshare in /usr/local/lib/python3.12/dist-packages (from ipython->ipython-sql) (0.7.5)\n",
            "Requirement already satisfied: traitlets>=4.2 in /usr/local/lib/python3.12/dist-packages (from ipython->ipython-sql) (5.7.1)\n",
            "Requirement already satisfied: prompt-toolkit!=3.0.0,!=3.0.1,<3.1.0,>=2.0.0 in /usr/local/lib/python3.12/dist-packages (from ipython->ipython-sql) (3.0.51)\n",
            "Requirement already satisfied: pygments in /usr/local/lib/python3.12/dist-packages (from ipython->ipython-sql) (2.19.2)\n",
            "Requirement already satisfied: backcall in /usr/local/lib/python3.12/dist-packages (from ipython->ipython-sql) (0.2.0)\n",
            "Requirement already satisfied: matplotlib-inline in /usr/local/lib/python3.12/dist-packages (from ipython->ipython-sql) (0.1.7)\n",
            "Requirement already satisfied: pexpect>4.3 in /usr/local/lib/python3.12/dist-packages (from ipython->ipython-sql) (4.9.0)\n",
            "Requirement already satisfied: wcwidth in /usr/local/lib/python3.12/dist-packages (from prettytable->ipython-sql) (0.2.13)\n",
            "Requirement already satisfied: parso<0.9.0,>=0.8.4 in /usr/local/lib/python3.12/dist-packages (from jedi>=0.16->ipython->ipython-sql) (0.8.4)\n",
            "Requirement already satisfied: ptyprocess>=0.5 in /usr/local/lib/python3.12/dist-packages (from pexpect>4.3->ipython->ipython-sql) (0.7.0)\n",
            "Using cached sqlalchemy-2.0.43-cp312-cp312-manylinux_2_17_x86_64.manylinux2014_x86_64.whl (3.3 MB)\n",
            "Downloading jedi-0.19.2-py2.py3-none-any.whl (1.6 MB)\n",
            "\u001b[2K   \u001b[90m━━━━━━━━━━━━━━━━━━━━━━━━━━━━━━━━━━━━━━━━\u001b[0m \u001b[32m1.6/1.6 MB\u001b[0m \u001b[31m37.6 MB/s\u001b[0m eta \u001b[36m0:00:00\u001b[0m\n",
            "\u001b[?25hInstalling collected packages: sqlalchemy, jedi\n",
            "  Attempting uninstall: sqlalchemy\n",
            "    Found existing installation: SQLAlchemy 1.3.24\n",
            "    Uninstalling SQLAlchemy-1.3.24:\n",
            "      Successfully uninstalled SQLAlchemy-1.3.24\n",
            "Successfully installed jedi-0.19.2 sqlalchemy-2.0.43\n",
            "Collecting ibm_db_sa\n",
            "  Downloading ibm_db_sa-0.4.2-py3-none-any.whl.metadata (5.4 kB)\n",
            "Collecting sqlalchemy>=0.7.3 (from ibm_db_sa)\n",
            "  Using cached sqlalchemy-2.0.43-cp312-cp312-manylinux_2_17_x86_64.manylinux2014_x86_64.whl.metadata (9.6 kB)\n",
            "Collecting ibm_db>=2.0.0 (from ibm_db_sa)\n",
            "  Downloading ibm_db-3.2.6-cp312-cp312-manylinux_2_17_x86_64.manylinux2014_x86_64.whl.metadata (33 kB)\n",
            "Collecting greenlet>=1 (from sqlalchemy>=0.7.3->ibm_db_sa)\n",
            "  Using cached greenlet-3.2.4-cp312-cp312-manylinux_2_24_x86_64.manylinux_2_28_x86_64.whl.metadata (4.1 kB)\n",
            "Collecting typing-extensions>=4.6.0 (from sqlalchemy>=0.7.3->ibm_db_sa)\n",
            "  Using cached typing_extensions-4.14.1-py3-none-any.whl.metadata (3.0 kB)\n",
            "Downloading ibm_db_sa-0.4.2-py3-none-any.whl (31 kB)\n",
            "Downloading ibm_db-3.2.6-cp312-cp312-manylinux_2_17_x86_64.manylinux2014_x86_64.whl (43.8 MB)\n",
            "\u001b[2K   \u001b[90m━━━━━━━━━━━━━━━━━━━━━━━━━━━━━━━━━━━━━━━━\u001b[0m \u001b[32m43.8/43.8 MB\u001b[0m \u001b[31m11.0 MB/s\u001b[0m eta \u001b[36m0:00:00\u001b[0m\n",
            "\u001b[?25hUsing cached sqlalchemy-2.0.43-cp312-cp312-manylinux_2_17_x86_64.manylinux2014_x86_64.whl (3.3 MB)\n",
            "Using cached greenlet-3.2.4-cp312-cp312-manylinux_2_24_x86_64.manylinux_2_28_x86_64.whl (607 kB)\n",
            "Using cached typing_extensions-4.14.1-py3-none-any.whl (43 kB)\n",
            "Installing collected packages: ibm_db, typing-extensions, greenlet, sqlalchemy, ibm_db_sa\n",
            "  Attempting uninstall: ibm_db\n",
            "    Found existing installation: ibm_db 3.1.0\n",
            "    Uninstalling ibm_db-3.1.0:\n",
            "      Successfully uninstalled ibm_db-3.1.0\n",
            "  Attempting uninstall: typing-extensions\n",
            "    Found existing installation: typing_extensions 4.14.1\n",
            "    Uninstalling typing_extensions-4.14.1:\n",
            "      Successfully uninstalled typing_extensions-4.14.1\n",
            "  Attempting uninstall: greenlet\n",
            "    Found existing installation: greenlet 3.2.4\n",
            "    Uninstalling greenlet-3.2.4:\n",
            "      Successfully uninstalled greenlet-3.2.4\n",
            "  Attempting uninstall: sqlalchemy\n",
            "    Found existing installation: SQLAlchemy 2.0.43\n",
            "    Uninstalling SQLAlchemy-2.0.43:\n",
            "      Successfully uninstalled SQLAlchemy-2.0.43\n",
            "  Attempting uninstall: ibm_db_sa\n",
            "    Found existing installation: ibm_db_sa 0.3.3\n",
            "    Uninstalling ibm_db_sa-0.3.3:\n",
            "      Successfully uninstalled ibm_db_sa-0.3.3\n",
            "Successfully installed greenlet-3.2.4 ibm_db-3.2.6 ibm_db_sa-0.4.2 sqlalchemy-2.0.43 typing-extensions-4.14.1\n"
          ]
        }
      ],
      "source": [
        "# These libraries are pre-installed in SN Labs. If running in another environment please uncomment lines below to install them:\n",
        "!pip install --force-reinstall ibm_db==3.1.0 ibm_db_sa==0.3.3\n",
        "#Ensure we don't load_ext with sqlalchemy>=1.4 (incompadible)\n",
        "!pip uninstall sqlalchemy==1.4 -y && pip install sqlalchemy==1.3.24\n",
        "!pip install ipython-sql\n",
        "!pip install --force-reinstall ibm_db_sa\n",
        "import ibm_db"
      ]
    },
    {
      "cell_type": "code",
      "execution_count": null,
      "metadata": {
        "id": "9G4u2kLTcRPT"
      },
      "outputs": [],
      "source": [
        "dsn_hostname = \"ea286ace-86c7-4d5b-8580-3fbfa46b1c66.bs2io90l08kqb1od8lcg.databases.appdomain.cloud\"\n",
        "dsn_uid = \"kpb97422\"\n",
        "dsn_pwd = \"OMyJI39MHW5dBTYR\"  # tu nueva contraseña\n",
        "dsn_drive = \"{IBM DB2 ODBC DRIVER}\"\n",
        "dsn_database = \"bludb\"\n",
        "dsn_port = \"31505\"\n",
        "dsn_protocol = \"TCPIP\"\n",
        "dsn_security = \"SSL\""
      ]
    },
    {
      "cell_type": "markdown",
      "metadata": {
        "id": "KT8oIXzkk4X-"
      },
      "source": [
        "# CREATE THE DB2 CONNECTION DATABASE\n",
        "Ibm_db API uses IBM Data Server Driver for ODBC and CLI APIs to connect to IBM DB2 and informix\n",
        "\n",
        "Lestld the dsn connection string used the credentials you entered above"
      ]
    },
    {
      "cell_type": "code",
      "execution_count": null,
      "metadata": {
        "colab": {
          "base_uri": "https://localhost:8080/"
        },
        "id": "TTuFKCLRk3VA",
        "outputId": "f3140c1b-5ac7-4551-a556-392dabc48773"
      },
      "outputs": [
        {
          "output_type": "stream",
          "name": "stdout",
          "text": [
            "DRIVER={IBM DB2 ODBC DRIVER};DATABASE=bludb;HOSTNAME=ea286ace-86c7-4d5b-8580-3fbfa46b1c66.bs2io90l08kqb1od8lcg.databases.appdomain.cloud;PORT=31505;PROTOCOL=TCPIP;UID=kpb97422;PWD=OMyJI39MHW5dBTYR;SECURITY=SSL;\n"
          ]
        }
      ],
      "source": [
        "# Create the dsn connnection string\n",
        "dsn = (\n",
        "    \"DRIVER={0};\"\n",
        "    \"DATABASE={1};\"\n",
        "    \"HOSTNAME={2};\"\n",
        "    \"PORT={3};\"\n",
        "    \"PROTOCOL={4};\"\n",
        "    \"UID={5};\"\n",
        "    \"PWD={6};\"\n",
        "    \"SECURITY={7};\").format(dsn_drive, dsn_database, dsn_hostname, dsn_port, dsn_protocol, dsn_uid, dsn_pwd, dsn_security)\n",
        "\n",
        "    # Print the connection string to check correct values are specified\n",
        "print(dsn)"
      ]
    },
    {
      "cell_type": "code",
      "execution_count": null,
      "metadata": {
        "colab": {
          "base_uri": "https://localhost:8080/"
        },
        "id": "cv87kPCfr74a",
        "outputId": "28107c92-077c-48cd-e0eb-a8f8ebdb39a2"
      },
      "outputs": [
        {
          "output_type": "stream",
          "name": "stdout",
          "text": [
            "✅ Conectado a base de datos: bludb como usuario: kpb97422\n"
          ]
        }
      ],
      "source": [
        "try:\n",
        "    conn = ibm_db.connect(dsn, \"\", \"\")\n",
        "    print(\"✅ Conectado a base de datos:\", dsn_database, \"como usuario:\", dsn_uid)\n",
        "except:\n",
        "    print(\"❌ Unable to connect:\", ibm_db.conn_errormsg())"
      ]
    },
    {
      "cell_type": "code",
      "execution_count": null,
      "metadata": {
        "colab": {
          "base_uri": "https://localhost:8080/"
        },
        "id": "TfF2vD-yAWsG",
        "outputId": "24a0fb0d-5a7d-4cf5-9fa4-ea899887d03f"
      },
      "outputs": [
        {
          "output_type": "stream",
          "name": "stdout",
          "text": [
            "DBMS_NAME:  DB2/LINUXX8664\n",
            "DBMS_VER:  11.05.0900\n",
            "DB_NAME:  BLUDB\n"
          ]
        }
      ],
      "source": [
        "#Retrive metadata for the database server\n",
        "server = ibm_db.server_info(conn)\n",
        "\n",
        "print(\"DBMS_NAME: \", server.DBMS_NAME)\n",
        "print(\"DBMS_VER: \", server.DBMS_VER)\n",
        "print(\"DB_NAME: \", server.DB_NAME)"
      ]
    },
    {
      "cell_type": "code",
      "execution_count": null,
      "metadata": {
        "colab": {
          "base_uri": "https://localhost:8080/"
        },
        "id": "b2pe66CAdVbq",
        "outputId": "ba1c0c30-c4bf-43f8-c2da-ab3971bb0375"
      },
      "outputs": [
        {
          "output_type": "stream",
          "name": "stdout",
          "text": [
            "DRIVER_NAME:           libdb2.a\n",
            "DRIVER_VER:            11.05.0900\n",
            "DATA_SOURCE_NAME:      BLUDB\n",
            "DRIVER_ODBC_VER:       03.51\n",
            "ODBC_VER:              03.01.0000\n",
            "ODBC_SQL_CONFORMANCE:  EXTENDED\n",
            "APPL_CODEPAGE:         1208\n",
            "CONN_CODEPAGE:         1208\n"
          ]
        }
      ],
      "source": [
        "# Retrive metadata for the database cliente / Driver\n",
        "client = ibm_db.client_info(conn)\n",
        "\n",
        "print (\"DRIVER_NAME:          \", client.DRIVER_NAME)\n",
        "print (\"DRIVER_VER:           \", client.DRIVER_VER)\n",
        "print (\"DATA_SOURCE_NAME:     \", client.DATA_SOURCE_NAME)\n",
        "print (\"DRIVER_ODBC_VER:      \", client.DRIVER_ODBC_VER)\n",
        "print (\"ODBC_VER:             \", client.ODBC_VER)\n",
        "print (\"ODBC_SQL_CONFORMANCE: \", client.ODBC_SQL_CONFORMANCE)\n",
        "print (\"APPL_CODEPAGE:        \", client.APPL_CODEPAGE)\n",
        "print (\"CONN_CODEPAGE:        \", client.CONN_CODEPAGE)"
      ]
    },
    {
      "cell_type": "markdown",
      "metadata": {
        "id": "ihcXiN4mBgQE"
      },
      "source": [
        "# Access DB2 on Cloud using Python\n",
        "## Objectives\n",
        "\n",
        "\n",
        "*   Create Table\n",
        "*   Insert data into the table\n",
        "*   Query data from the table\n",
        "*   Retrive the results set into a Pandas dataframe\n",
        "*   Close the database connection\n",
        "\n",
        "\n",
        "# Task 4\n",
        "Create Table in the database\n",
        "In this step we will create a table in the database with following details\n",
        "\n",
        "\n"
      ]
    },
    {
      "cell_type": "code",
      "execution_count": null,
      "metadata": {
        "colab": {
          "base_uri": "https://localhost:8080/",
          "height": 180
        },
        "id": "JXC0bNOPBf35",
        "outputId": "ca32bdb2-9585-457e-876c-d045ba56034c"
      },
      "outputs": [
        {
          "output_type": "error",
          "ename": "Exception",
          "evalue": "[IBM][CLI Driver][DB2/LINUXX8664] SQL0204N  \"KPB97422.INSTRUCTOR\" is an undefined name.  SQLSTATE=42704 SQLCODE=-204",
          "traceback": [
            "\u001b[0;31m---------------------------------------------------------------------------\u001b[0m",
            "\u001b[0;31mException\u001b[0m                                 Traceback (most recent call last)",
            "\u001b[0;32m/tmp/ipython-input-2701670575.py\u001b[0m in \u001b[0;36m<cell line: 0>\u001b[0;34m()\u001b[0m\n\u001b[1;32m      3\u001b[0m \u001b[0;34m\u001b[0m\u001b[0m\n\u001b[1;32m      4\u001b[0m \u001b[0;31m#Now Execute the drop statment\u001b[0m\u001b[0;34m\u001b[0m\u001b[0;34m\u001b[0m\u001b[0m\n\u001b[0;32m----> 5\u001b[0;31m \u001b[0mdropStmt\u001b[0m \u001b[0;34m=\u001b[0m \u001b[0mibm_db\u001b[0m\u001b[0;34m.\u001b[0m\u001b[0mexec_immediate\u001b[0m\u001b[0;34m(\u001b[0m\u001b[0mconn\u001b[0m\u001b[0;34m,\u001b[0m \u001b[0mdropQuery\u001b[0m\u001b[0;34m)\u001b[0m\u001b[0;34m\u001b[0m\u001b[0;34m\u001b[0m\u001b[0m\n\u001b[0m",
            "\u001b[0;31mException\u001b[0m: [IBM][CLI Driver][DB2/LINUXX8664] SQL0204N  \"KPB97422.INSTRUCTOR\" is an undefined name.  SQLSTATE=42704 SQLCODE=-204"
          ]
        }
      ],
      "source": [
        "#lest first drop the table INSTRUCTOR in case it exists from a previous attempt\n",
        "dropQuery =\"drop table INSTRUCTOR\"\n",
        "\n",
        "#Now Execute the drop statment\n",
        "dropStmt = ibm_db.exec_immediate(conn, dropQuery)"
      ]
    },
    {
      "cell_type": "code",
      "execution_count": null,
      "metadata": {
        "id": "qCJ_OaqnEg0p"
      },
      "outputs": [],
      "source": [
        "createQuery = \"create table INSTRUCTOR(id INTEGER PRIMARY KEY NOT NULL, fname VARCHAR(30), lname VARCHAR(30), city VARCHAR(30), ccode CHAR(2))\"\n",
        "\n",
        "createStmt = ibm_db.exec_immediate(conn, createQuery)"
      ]
    },
    {
      "cell_type": "code",
      "source": [
        "# construct the query - replace  .... insert statement\n",
        "insertQuery = \"insert into INSTRUCTOR values (1, 'Rav', 'Ahuja', 'Toronto', 'CA')\"\n",
        "\n",
        "#execute the insert statement\n",
        "insertStmt = ibm_db.exec_immediate(conn, insertQuery)"
      ],
      "metadata": {
        "id": "lhoaHupdeJkx"
      },
      "execution_count": null,
      "outputs": []
    },
    {
      "cell_type": "code",
      "source": [
        "insertQuery2 = \"insert into INSTRUCTOR values (2, 'Raul', 'Caliche', 'Markham', 'CA'), (3, 'Hernando', 'Totoro', 'Cali', 'VA')\"\n",
        "insertStmt2 = ibm_db.exec_immediate(conn, insertQuery2)"
      ],
      "metadata": {
        "id": "xlRt-rMniNmA"
      },
      "execution_count": null,
      "outputs": []
    },
    {
      "cell_type": "code",
      "source": [
        "selectQuery = \"select * from INSTRUCTOR\"\n",
        "selectStmt = ibm_db.exec_immediate(conn, selectQuery)\n",
        "row = ibm_db.fetch_both(selectStmt)\n",
        "print(\"La  primera fila que tiene esta tabla de mi ejercicio es la siquiente\",row)"
      ],
      "metadata": {
        "colab": {
          "base_uri": "https://localhost:8080/"
        },
        "id": "gPr7UrGrnCfq",
        "outputId": "91d77aaf-3aa1-40de-d688-1a974183fdbd"
      },
      "execution_count": null,
      "outputs": [
        {
          "output_type": "stream",
          "name": "stdout",
          "text": [
            "La  primera fila que tiene esta tabla de mi ejercicio es la siquiente {'ID': 1, 0: 1, 'FNAME': 'Rav', 1: 'Rav', 'LNAME': 'Ahuja', 2: 'Ahuja', 'CITY': 'Toronto', 3: 'Toronto', 'CCODE': 'CA', 4: 'CA'}\n"
          ]
        }
      ]
    },
    {
      "cell_type": "code",
      "source": [
        "while ibm_db.fetch_row(selectStmt) != False :\n",
        "    print(\"ID:\", ibm_db.result(selectStmt, 0), \"Fname:\", ibm_db.result(selectStmt, \"FNAME\"))"
      ],
      "metadata": {
        "colab": {
          "base_uri": "https://localhost:8080/"
        },
        "id": "JuSLc2tbqxWI",
        "outputId": "d44a5027-2770-47d6-c2d6-7dd17389b48c"
      },
      "execution_count": null,
      "outputs": [
        {
          "output_type": "stream",
          "name": "stdout",
          "text": [
            "ID: 2 Fname: Raul\n",
            "ID: 3 Fname: Hernando\n"
          ]
        }
      ]
    },
    {
      "cell_type": "code",
      "source": [
        "# Ahora escribe y ejecuta una instrucción de actualización que cambie la ciudad de Rav a MOOSETOWN.\n",
        "updateQuery = \"update INSTRUCTOR  set city = 'el cortijo' where FNAME = 'Rav'\"\n",
        "updateQuery = ibm_db.exec_immediate(conn, updateQuery)\n"
      ],
      "metadata": {
        "id": "zBHJqCCAsfAA"
      },
      "execution_count": null,
      "outputs": []
    },
    {
      "cell_type": "code",
      "source": [
        "!pip install pandas\n",
        "import pandas as pd\n",
        "import ibm_db_dbi\n",
        "\n",
        "#conexion para pandas\n",
        "pconn = ibm_db_dbi.Connection(conn)\n",
        "\n",
        "selectQuery = \"select * from INSTRUCTOR\"\n",
        "\n",
        "pdf = pd.read_sql(selectQuery, pconn)\n",
        "\n",
        "#Imprimir solo el LNAME de la primera fila del marco de datos pandas\n",
        "pdf.LNAME[0]"
      ],
      "metadata": {
        "colab": {
          "base_uri": "https://localhost:8080/",
          "height": 198
        },
        "id": "oPxFiZjht5S7",
        "outputId": "7b75f7aa-bd45-40d7-f283-caf59bd4c4dd"
      },
      "execution_count": null,
      "outputs": [
        {
          "output_type": "stream",
          "name": "stdout",
          "text": [
            "Requirement already satisfied: pandas in /usr/local/lib/python3.12/dist-packages (2.2.2)\n",
            "Requirement already satisfied: numpy>=1.26.0 in /usr/local/lib/python3.12/dist-packages (from pandas) (2.0.2)\n",
            "Requirement already satisfied: python-dateutil>=2.8.2 in /usr/local/lib/python3.12/dist-packages (from pandas) (2.9.0.post0)\n",
            "Requirement already satisfied: pytz>=2020.1 in /usr/local/lib/python3.12/dist-packages (from pandas) (2025.2)\n",
            "Requirement already satisfied: tzdata>=2022.7 in /usr/local/lib/python3.12/dist-packages (from pandas) (2025.2)\n",
            "Requirement already satisfied: six>=1.5 in /usr/local/lib/python3.12/dist-packages (from python-dateutil>=2.8.2->pandas) (1.17.0)\n"
          ]
        },
        {
          "output_type": "stream",
          "name": "stderr",
          "text": [
            "/tmp/ipython-input-2562311884.py:10: UserWarning: pandas only supports SQLAlchemy connectable (engine/connection) or database string URI or sqlite3 DBAPI2 connection. Other DBAPI2 objects are not tested. Please consider using SQLAlchemy.\n",
            "  pdf = pd.read_sql(selectQuery, pconn)\n"
          ]
        },
        {
          "output_type": "execute_result",
          "data": {
            "text/plain": [
              "'Ahuja'"
            ],
            "application/vnd.google.colaboratory.intrinsic+json": {
              "type": "string"
            }
          },
          "metadata": {},
          "execution_count": 32
        }
      ]
    },
    {
      "cell_type": "code",
      "source": [
        "pdf"
      ],
      "metadata": {
        "colab": {
          "base_uri": "https://localhost:8080/",
          "height": 143
        },
        "id": "SqVsP8erv5xr",
        "outputId": "3f8fc367-f85d-4c6c-a084-47ac81054d09"
      },
      "execution_count": null,
      "outputs": [
        {
          "output_type": "execute_result",
          "data": {
            "text/plain": [
              "   ID     FNAME    LNAME        CITY CCODE\n",
              "0   1       Rav    Ahuja  el cortijo    CA\n",
              "1   2      Raul  Caliche     Markham    CA\n",
              "2   3  Hernando   Totoro        Cali    VA"
            ],
            "text/html": [
              "\n",
              "  <div id=\"df-77a41177-ce22-4ad2-814a-7317bb9debad\" class=\"colab-df-container\">\n",
              "    <div>\n",
              "<style scoped>\n",
              "    .dataframe tbody tr th:only-of-type {\n",
              "        vertical-align: middle;\n",
              "    }\n",
              "\n",
              "    .dataframe tbody tr th {\n",
              "        vertical-align: top;\n",
              "    }\n",
              "\n",
              "    .dataframe thead th {\n",
              "        text-align: right;\n",
              "    }\n",
              "</style>\n",
              "<table border=\"1\" class=\"dataframe\">\n",
              "  <thead>\n",
              "    <tr style=\"text-align: right;\">\n",
              "      <th></th>\n",
              "      <th>ID</th>\n",
              "      <th>FNAME</th>\n",
              "      <th>LNAME</th>\n",
              "      <th>CITY</th>\n",
              "      <th>CCODE</th>\n",
              "    </tr>\n",
              "  </thead>\n",
              "  <tbody>\n",
              "    <tr>\n",
              "      <th>0</th>\n",
              "      <td>1</td>\n",
              "      <td>Rav</td>\n",
              "      <td>Ahuja</td>\n",
              "      <td>el cortijo</td>\n",
              "      <td>CA</td>\n",
              "    </tr>\n",
              "    <tr>\n",
              "      <th>1</th>\n",
              "      <td>2</td>\n",
              "      <td>Raul</td>\n",
              "      <td>Caliche</td>\n",
              "      <td>Markham</td>\n",
              "      <td>CA</td>\n",
              "    </tr>\n",
              "    <tr>\n",
              "      <th>2</th>\n",
              "      <td>3</td>\n",
              "      <td>Hernando</td>\n",
              "      <td>Totoro</td>\n",
              "      <td>Cali</td>\n",
              "      <td>VA</td>\n",
              "    </tr>\n",
              "  </tbody>\n",
              "</table>\n",
              "</div>\n",
              "    <div class=\"colab-df-buttons\">\n",
              "\n",
              "  <div class=\"colab-df-container\">\n",
              "    <button class=\"colab-df-convert\" onclick=\"convertToInteractive('df-77a41177-ce22-4ad2-814a-7317bb9debad')\"\n",
              "            title=\"Convert this dataframe to an interactive table.\"\n",
              "            style=\"display:none;\">\n",
              "\n",
              "  <svg xmlns=\"http://www.w3.org/2000/svg\" height=\"24px\" viewBox=\"0 -960 960 960\">\n",
              "    <path d=\"M120-120v-720h720v720H120Zm60-500h600v-160H180v160Zm220 220h160v-160H400v160Zm0 220h160v-160H400v160ZM180-400h160v-160H180v160Zm440 0h160v-160H620v160ZM180-180h160v-160H180v160Zm440 0h160v-160H620v160Z\"/>\n",
              "  </svg>\n",
              "    </button>\n",
              "\n",
              "  <style>\n",
              "    .colab-df-container {\n",
              "      display:flex;\n",
              "      gap: 12px;\n",
              "    }\n",
              "\n",
              "    .colab-df-convert {\n",
              "      background-color: #E8F0FE;\n",
              "      border: none;\n",
              "      border-radius: 50%;\n",
              "      cursor: pointer;\n",
              "      display: none;\n",
              "      fill: #1967D2;\n",
              "      height: 32px;\n",
              "      padding: 0 0 0 0;\n",
              "      width: 32px;\n",
              "    }\n",
              "\n",
              "    .colab-df-convert:hover {\n",
              "      background-color: #E2EBFA;\n",
              "      box-shadow: 0px 1px 2px rgba(60, 64, 67, 0.3), 0px 1px 3px 1px rgba(60, 64, 67, 0.15);\n",
              "      fill: #174EA6;\n",
              "    }\n",
              "\n",
              "    .colab-df-buttons div {\n",
              "      margin-bottom: 4px;\n",
              "    }\n",
              "\n",
              "    [theme=dark] .colab-df-convert {\n",
              "      background-color: #3B4455;\n",
              "      fill: #D2E3FC;\n",
              "    }\n",
              "\n",
              "    [theme=dark] .colab-df-convert:hover {\n",
              "      background-color: #434B5C;\n",
              "      box-shadow: 0px 1px 3px 1px rgba(0, 0, 0, 0.15);\n",
              "      filter: drop-shadow(0px 1px 2px rgba(0, 0, 0, 0.3));\n",
              "      fill: #FFFFFF;\n",
              "    }\n",
              "  </style>\n",
              "\n",
              "    <script>\n",
              "      const buttonEl =\n",
              "        document.querySelector('#df-77a41177-ce22-4ad2-814a-7317bb9debad button.colab-df-convert');\n",
              "      buttonEl.style.display =\n",
              "        google.colab.kernel.accessAllowed ? 'block' : 'none';\n",
              "\n",
              "      async function convertToInteractive(key) {\n",
              "        const element = document.querySelector('#df-77a41177-ce22-4ad2-814a-7317bb9debad');\n",
              "        const dataTable =\n",
              "          await google.colab.kernel.invokeFunction('convertToInteractive',\n",
              "                                                    [key], {});\n",
              "        if (!dataTable) return;\n",
              "\n",
              "        const docLinkHtml = 'Like what you see? Visit the ' +\n",
              "          '<a target=\"_blank\" href=https://colab.research.google.com/notebooks/data_table.ipynb>data table notebook</a>'\n",
              "          + ' to learn more about interactive tables.';\n",
              "        element.innerHTML = '';\n",
              "        dataTable['output_type'] = 'display_data';\n",
              "        await google.colab.output.renderOutput(dataTable, element);\n",
              "        const docLink = document.createElement('div');\n",
              "        docLink.innerHTML = docLinkHtml;\n",
              "        element.appendChild(docLink);\n",
              "      }\n",
              "    </script>\n",
              "  </div>\n",
              "\n",
              "\n",
              "    <div id=\"df-772df63c-20bb-4143-bbef-322d92a9dc60\">\n",
              "      <button class=\"colab-df-quickchart\" onclick=\"quickchart('df-772df63c-20bb-4143-bbef-322d92a9dc60')\"\n",
              "                title=\"Suggest charts\"\n",
              "                style=\"display:none;\">\n",
              "\n",
              "<svg xmlns=\"http://www.w3.org/2000/svg\" height=\"24px\"viewBox=\"0 0 24 24\"\n",
              "     width=\"24px\">\n",
              "    <g>\n",
              "        <path d=\"M19 3H5c-1.1 0-2 .9-2 2v14c0 1.1.9 2 2 2h14c1.1 0 2-.9 2-2V5c0-1.1-.9-2-2-2zM9 17H7v-7h2v7zm4 0h-2V7h2v10zm4 0h-2v-4h2v4z\"/>\n",
              "    </g>\n",
              "</svg>\n",
              "      </button>\n",
              "\n",
              "<style>\n",
              "  .colab-df-quickchart {\n",
              "      --bg-color: #E8F0FE;\n",
              "      --fill-color: #1967D2;\n",
              "      --hover-bg-color: #E2EBFA;\n",
              "      --hover-fill-color: #174EA6;\n",
              "      --disabled-fill-color: #AAA;\n",
              "      --disabled-bg-color: #DDD;\n",
              "  }\n",
              "\n",
              "  [theme=dark] .colab-df-quickchart {\n",
              "      --bg-color: #3B4455;\n",
              "      --fill-color: #D2E3FC;\n",
              "      --hover-bg-color: #434B5C;\n",
              "      --hover-fill-color: #FFFFFF;\n",
              "      --disabled-bg-color: #3B4455;\n",
              "      --disabled-fill-color: #666;\n",
              "  }\n",
              "\n",
              "  .colab-df-quickchart {\n",
              "    background-color: var(--bg-color);\n",
              "    border: none;\n",
              "    border-radius: 50%;\n",
              "    cursor: pointer;\n",
              "    display: none;\n",
              "    fill: var(--fill-color);\n",
              "    height: 32px;\n",
              "    padding: 0;\n",
              "    width: 32px;\n",
              "  }\n",
              "\n",
              "  .colab-df-quickchart:hover {\n",
              "    background-color: var(--hover-bg-color);\n",
              "    box-shadow: 0 1px 2px rgba(60, 64, 67, 0.3), 0 1px 3px 1px rgba(60, 64, 67, 0.15);\n",
              "    fill: var(--button-hover-fill-color);\n",
              "  }\n",
              "\n",
              "  .colab-df-quickchart-complete:disabled,\n",
              "  .colab-df-quickchart-complete:disabled:hover {\n",
              "    background-color: var(--disabled-bg-color);\n",
              "    fill: var(--disabled-fill-color);\n",
              "    box-shadow: none;\n",
              "  }\n",
              "\n",
              "  .colab-df-spinner {\n",
              "    border: 2px solid var(--fill-color);\n",
              "    border-color: transparent;\n",
              "    border-bottom-color: var(--fill-color);\n",
              "    animation:\n",
              "      spin 1s steps(1) infinite;\n",
              "  }\n",
              "\n",
              "  @keyframes spin {\n",
              "    0% {\n",
              "      border-color: transparent;\n",
              "      border-bottom-color: var(--fill-color);\n",
              "      border-left-color: var(--fill-color);\n",
              "    }\n",
              "    20% {\n",
              "      border-color: transparent;\n",
              "      border-left-color: var(--fill-color);\n",
              "      border-top-color: var(--fill-color);\n",
              "    }\n",
              "    30% {\n",
              "      border-color: transparent;\n",
              "      border-left-color: var(--fill-color);\n",
              "      border-top-color: var(--fill-color);\n",
              "      border-right-color: var(--fill-color);\n",
              "    }\n",
              "    40% {\n",
              "      border-color: transparent;\n",
              "      border-right-color: var(--fill-color);\n",
              "      border-top-color: var(--fill-color);\n",
              "    }\n",
              "    60% {\n",
              "      border-color: transparent;\n",
              "      border-right-color: var(--fill-color);\n",
              "    }\n",
              "    80% {\n",
              "      border-color: transparent;\n",
              "      border-right-color: var(--fill-color);\n",
              "      border-bottom-color: var(--fill-color);\n",
              "    }\n",
              "    90% {\n",
              "      border-color: transparent;\n",
              "      border-bottom-color: var(--fill-color);\n",
              "    }\n",
              "  }\n",
              "</style>\n",
              "\n",
              "      <script>\n",
              "        async function quickchart(key) {\n",
              "          const quickchartButtonEl =\n",
              "            document.querySelector('#' + key + ' button');\n",
              "          quickchartButtonEl.disabled = true;  // To prevent multiple clicks.\n",
              "          quickchartButtonEl.classList.add('colab-df-spinner');\n",
              "          try {\n",
              "            const charts = await google.colab.kernel.invokeFunction(\n",
              "                'suggestCharts', [key], {});\n",
              "          } catch (error) {\n",
              "            console.error('Error during call to suggestCharts:', error);\n",
              "          }\n",
              "          quickchartButtonEl.classList.remove('colab-df-spinner');\n",
              "          quickchartButtonEl.classList.add('colab-df-quickchart-complete');\n",
              "        }\n",
              "        (() => {\n",
              "          let quickchartButtonEl =\n",
              "            document.querySelector('#df-772df63c-20bb-4143-bbef-322d92a9dc60 button');\n",
              "          quickchartButtonEl.style.display =\n",
              "            google.colab.kernel.accessAllowed ? 'block' : 'none';\n",
              "        })();\n",
              "      </script>\n",
              "    </div>\n",
              "\n",
              "  <div id=\"id_1f941690-f4c6-4264-9b7e-e4721437aba7\">\n",
              "    <style>\n",
              "      .colab-df-generate {\n",
              "        background-color: #E8F0FE;\n",
              "        border: none;\n",
              "        border-radius: 50%;\n",
              "        cursor: pointer;\n",
              "        display: none;\n",
              "        fill: #1967D2;\n",
              "        height: 32px;\n",
              "        padding: 0 0 0 0;\n",
              "        width: 32px;\n",
              "      }\n",
              "\n",
              "      .colab-df-generate:hover {\n",
              "        background-color: #E2EBFA;\n",
              "        box-shadow: 0px 1px 2px rgba(60, 64, 67, 0.3), 0px 1px 3px 1px rgba(60, 64, 67, 0.15);\n",
              "        fill: #174EA6;\n",
              "      }\n",
              "\n",
              "      [theme=dark] .colab-df-generate {\n",
              "        background-color: #3B4455;\n",
              "        fill: #D2E3FC;\n",
              "      }\n",
              "\n",
              "      [theme=dark] .colab-df-generate:hover {\n",
              "        background-color: #434B5C;\n",
              "        box-shadow: 0px 1px 3px 1px rgba(0, 0, 0, 0.15);\n",
              "        filter: drop-shadow(0px 1px 2px rgba(0, 0, 0, 0.3));\n",
              "        fill: #FFFFFF;\n",
              "      }\n",
              "    </style>\n",
              "    <button class=\"colab-df-generate\" onclick=\"generateWithVariable('pdf')\"\n",
              "            title=\"Generate code using this dataframe.\"\n",
              "            style=\"display:none;\">\n",
              "\n",
              "  <svg xmlns=\"http://www.w3.org/2000/svg\" height=\"24px\"viewBox=\"0 0 24 24\"\n",
              "       width=\"24px\">\n",
              "    <path d=\"M7,19H8.4L18.45,9,17,7.55,7,17.6ZM5,21V16.75L18.45,3.32a2,2,0,0,1,2.83,0l1.4,1.43a1.91,1.91,0,0,1,.58,1.4,1.91,1.91,0,0,1-.58,1.4L9.25,21ZM18.45,9,17,7.55Zm-12,3A5.31,5.31,0,0,0,4.9,8.1,5.31,5.31,0,0,0,1,6.5,5.31,5.31,0,0,0,4.9,4.9,5.31,5.31,0,0,0,6.5,1,5.31,5.31,0,0,0,8.1,4.9,5.31,5.31,0,0,0,12,6.5,5.46,5.46,0,0,0,6.5,12Z\"/>\n",
              "  </svg>\n",
              "    </button>\n",
              "    <script>\n",
              "      (() => {\n",
              "      const buttonEl =\n",
              "        document.querySelector('#id_1f941690-f4c6-4264-9b7e-e4721437aba7 button.colab-df-generate');\n",
              "      buttonEl.style.display =\n",
              "        google.colab.kernel.accessAllowed ? 'block' : 'none';\n",
              "\n",
              "      buttonEl.onclick = () => {\n",
              "        google.colab.notebook.generateWithVariable('pdf');\n",
              "      }\n",
              "      })();\n",
              "    </script>\n",
              "  </div>\n",
              "\n",
              "    </div>\n",
              "  </div>\n"
            ],
            "application/vnd.google.colaboratory.intrinsic+json": {
              "type": "dataframe",
              "variable_name": "pdf",
              "summary": "{\n  \"name\": \"pdf\",\n  \"rows\": 3,\n  \"fields\": [\n    {\n      \"column\": \"ID\",\n      \"properties\": {\n        \"dtype\": \"number\",\n        \"std\": 1,\n        \"min\": 1,\n        \"max\": 3,\n        \"num_unique_values\": 3,\n        \"samples\": [\n          1,\n          2,\n          3\n        ],\n        \"semantic_type\": \"\",\n        \"description\": \"\"\n      }\n    },\n    {\n      \"column\": \"FNAME\",\n      \"properties\": {\n        \"dtype\": \"string\",\n        \"num_unique_values\": 3,\n        \"samples\": [\n          \"Rav\",\n          \"Raul\",\n          \"Hernando\"\n        ],\n        \"semantic_type\": \"\",\n        \"description\": \"\"\n      }\n    },\n    {\n      \"column\": \"LNAME\",\n      \"properties\": {\n        \"dtype\": \"string\",\n        \"num_unique_values\": 3,\n        \"samples\": [\n          \"Ahuja\",\n          \"Caliche\",\n          \"Totoro\"\n        ],\n        \"semantic_type\": \"\",\n        \"description\": \"\"\n      }\n    },\n    {\n      \"column\": \"CITY\",\n      \"properties\": {\n        \"dtype\": \"string\",\n        \"num_unique_values\": 3,\n        \"samples\": [\n          \"el cortijo\",\n          \"Markham\",\n          \"Cali\"\n        ],\n        \"semantic_type\": \"\",\n        \"description\": \"\"\n      }\n    },\n    {\n      \"column\": \"CCODE\",\n      \"properties\": {\n        \"dtype\": \"string\",\n        \"num_unique_values\": 2,\n        \"samples\": [\n          \"VA\",\n          \"CA\"\n        ],\n        \"semantic_type\": \"\",\n        \"description\": \"\"\n      }\n    }\n  ]\n}"
            }
          },
          "metadata": {},
          "execution_count": 33
        }
      ]
    },
    {
      "cell_type": "code",
      "source": [
        "#mostrar cantidad de columnas y de filas del df\n",
        "pdf.shape"
      ],
      "metadata": {
        "colab": {
          "base_uri": "https://localhost:8080/"
        },
        "id": "oIKhrxR7wAK5",
        "outputId": "55f91ddb-b2fd-4e78-b6ba-bba6a0559226"
      },
      "execution_count": null,
      "outputs": [
        {
          "output_type": "execute_result",
          "data": {
            "text/plain": [
              "(3, 5)"
            ]
          },
          "metadata": {},
          "execution_count": 35
        }
      ]
    },
    {
      "cell_type": "code",
      "execution_count": null,
      "metadata": {
        "colab": {
          "base_uri": "https://localhost:8080/"
        },
        "id": "cR24KJdgeQnt",
        "outputId": "5bbc6b95-0ad7-401b-9a88-7aed5ad12d54"
      },
      "outputs": [
        {
          "output_type": "execute_result",
          "data": {
            "text/plain": [
              "True"
            ]
          },
          "metadata": {},
          "execution_count": 36
        }
      ],
      "source": [
        "ibm_db.close(conn)"
      ]
    }
  ],
  "metadata": {
    "colab": {
      "provenance": [],
      "authorship_tag": "ABX9TyNxs9IFNRH/IXVpdKMlL7pq",
      "include_colab_link": true
    },
    "kernelspec": {
      "display_name": "Python 3",
      "name": "python3"
    },
    "language_info": {
      "name": "python"
    }
  },
  "nbformat": 4,
  "nbformat_minor": 0
}